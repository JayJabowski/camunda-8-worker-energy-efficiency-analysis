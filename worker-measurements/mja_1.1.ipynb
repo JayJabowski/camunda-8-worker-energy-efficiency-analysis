{
 "cells": [
  {
   "cell_type": "markdown",
   "metadata": {},
   "source": [
    "# Ablauf\n",
    "\n",
    "1) Daten einlesen\n",
    "2) Daten aufebereiten\n",
    "    -   Ausreißer identifizieren\n",
    "3) GSMP-Kenndaten aufbereiten\n",
    "4) Analyse\n",
    "    -   Scatterplot Jobs auf Watt + Regression\n",
    "    -   line chart auf bar chart\n",
    "    -   Berechnung pro Worker - Idle"
   ]
  },
  {
   "cell_type": "markdown",
   "metadata": {},
   "source": [
    "# 0. Helfer-Funktionen"
   ]
  },
  {
   "cell_type": "code",
   "execution_count": 206,
   "metadata": {},
   "outputs": [],
   "source": [
    "def filter_outliers_iqr_per_column(column, multiplier=1.5):\n",
    "    Q1 = column.quantile(0.25)\n",
    "    Q3 = column.quantile(0.75)\n",
    "    IQR = Q3 - Q1\n",
    "    lower_bound = Q1 - multiplier * IQR\n",
    "    upper_bound = Q3 + multiplier * IQR\n",
    "    outliers = ((column < lower_bound) | (column > upper_bound))\n",
    "    return column[~outliers]\n",
    "\n",
    "# Function to apply the IQR method for each row in a DataFrame\n",
    "def filter_outliers_iqr(df, multiplier=1.5):\n",
    "    return df.apply(filter_outliers_iqr_per_column, axis=0).apply(pd.to_numeric, errors='coerce')\n"
   ]
  },
  {
   "cell_type": "markdown",
   "metadata": {},
   "source": [
    "# 1. Daten einlesen"
   ]
  },
  {
   "cell_type": "markdown",
   "metadata": {},
   "source": [
    "### CSV einlesen"
   ]
  },
  {
   "cell_type": "code",
   "execution_count": 207,
   "metadata": {},
   "outputs": [
    {
     "data": {
      "text/html": [
       "<div>\n",
       "<style scoped>\n",
       "    .dataframe tbody tr th:only-of-type {\n",
       "        vertical-align: middle;\n",
       "    }\n",
       "\n",
       "    .dataframe tbody tr th {\n",
       "        vertical-align: top;\n",
       "    }\n",
       "\n",
       "    .dataframe thead th {\n",
       "        text-align: right;\n",
       "    }\n",
       "</style>\n",
       "<table border=\"1\" class=\"dataframe\">\n",
       "  <thead>\n",
       "    <tr style=\"text-align: right;\">\n",
       "      <th></th>\n",
       "      <th>camunda-platform-elasticsearch-master-0 / camunda8 / PKG</th>\n",
       "      <th>camunda-platform-elasticsearch-master-1 / camunda8 / PKG</th>\n",
       "      <th>camunda-platform-operate-5bc7c489c4-8zrg4 / camunda8 / PKG</th>\n",
       "      <th>camunda-platform-tasklist-9968d5594-9257r / camunda8 / PKG</th>\n",
       "      <th>camunda-platform-zeebe-0 / camunda8 / PKG</th>\n",
       "      <th>camunda-platform-zeebe-gateway-5ff76496c4-n9kzj / camunda8 / PKG</th>\n",
       "      <th>camunda-platform-elasticsearch-master-0 / camunda8 / DRAM</th>\n",
       "      <th>camunda-platform-elasticsearch-master-1 / camunda8 / DRAM</th>\n",
       "      <th>camunda-platform-operate-5bc7c489c4-8zrg4 / camunda8 / DRAM</th>\n",
       "      <th>camunda-platform-tasklist-9968d5594-9257r / camunda8 / DRAM</th>\n",
       "      <th>camunda-platform-zeebe-0 / camunda8 / DRAM</th>\n",
       "      <th>camunda-platform-zeebe-gateway-5ff76496c4-n9kzj / camunda8 / DRAM</th>\n",
       "      <th>camunda-platform-elasticsearch-master-0 / camunda8 / OTHER</th>\n",
       "      <th>camunda-platform-elasticsearch-master-1 / camunda8 / OTHER</th>\n",
       "      <th>camunda-platform-operate-5bc7c489c4-8zrg4 / camunda8 / OTHER</th>\n",
       "      <th>camunda-platform-tasklist-9968d5594-9257r / camunda8 / OTHER</th>\n",
       "      <th>camunda-platform-zeebe-0 / camunda8 / OTHER</th>\n",
       "      <th>camunda-platform-zeebe-gateway-5ff76496c4-n9kzj / camunda8 / OTHER</th>\n",
       "    </tr>\n",
       "    <tr>\n",
       "      <th>Time</th>\n",
       "      <th></th>\n",
       "      <th></th>\n",
       "      <th></th>\n",
       "      <th></th>\n",
       "      <th></th>\n",
       "      <th></th>\n",
       "      <th></th>\n",
       "      <th></th>\n",
       "      <th></th>\n",
       "      <th></th>\n",
       "      <th></th>\n",
       "      <th></th>\n",
       "      <th></th>\n",
       "      <th></th>\n",
       "      <th></th>\n",
       "      <th></th>\n",
       "      <th></th>\n",
       "      <th></th>\n",
       "    </tr>\n",
       "  </thead>\n",
       "  <tbody>\n",
       "    <tr>\n",
       "      <th>2024-02-14 18:30:00</th>\n",
       "      <td>0.544</td>\n",
       "      <td>0.485</td>\n",
       "      <td>0.242</td>\n",
       "      <td>0.237</td>\n",
       "      <td>0.526</td>\n",
       "      <td>0.300</td>\n",
       "      <td>0.0468</td>\n",
       "      <td>0.0468</td>\n",
       "      <td>0.0234</td>\n",
       "      <td>0.0234</td>\n",
       "      <td>0.0234</td>\n",
       "      <td>0.0234</td>\n",
       "      <td>0</td>\n",
       "      <td>0</td>\n",
       "      <td>0</td>\n",
       "      <td>0</td>\n",
       "      <td>0</td>\n",
       "      <td>0</td>\n",
       "    </tr>\n",
       "    <tr>\n",
       "      <th>2024-02-14 18:30:10</th>\n",
       "      <td>0.350</td>\n",
       "      <td>0.379</td>\n",
       "      <td>0.172</td>\n",
       "      <td>0.170</td>\n",
       "      <td>0.329</td>\n",
       "      <td>0.203</td>\n",
       "      <td>0.0402</td>\n",
       "      <td>0.0402</td>\n",
       "      <td>0.0201</td>\n",
       "      <td>0.0201</td>\n",
       "      <td>0.0201</td>\n",
       "      <td>0.0201</td>\n",
       "      <td>0</td>\n",
       "      <td>0</td>\n",
       "      <td>0</td>\n",
       "      <td>0</td>\n",
       "      <td>0</td>\n",
       "      <td>0</td>\n",
       "    </tr>\n",
       "    <tr>\n",
       "      <th>2024-02-14 18:30:20</th>\n",
       "      <td>0.362</td>\n",
       "      <td>0.363</td>\n",
       "      <td>0.174</td>\n",
       "      <td>0.171</td>\n",
       "      <td>0.412</td>\n",
       "      <td>0.203</td>\n",
       "      <td>0.0456</td>\n",
       "      <td>0.0456</td>\n",
       "      <td>0.0228</td>\n",
       "      <td>0.0228</td>\n",
       "      <td>0.0228</td>\n",
       "      <td>0.0228</td>\n",
       "      <td>0</td>\n",
       "      <td>0</td>\n",
       "      <td>0</td>\n",
       "      <td>0</td>\n",
       "      <td>0</td>\n",
       "      <td>0</td>\n",
       "    </tr>\n",
       "    <tr>\n",
       "      <th>2024-02-14 18:30:30</th>\n",
       "      <td>0.518</td>\n",
       "      <td>0.478</td>\n",
       "      <td>0.241</td>\n",
       "      <td>0.234</td>\n",
       "      <td>0.490</td>\n",
       "      <td>0.277</td>\n",
       "      <td>0.0456</td>\n",
       "      <td>0.0456</td>\n",
       "      <td>0.0228</td>\n",
       "      <td>0.0228</td>\n",
       "      <td>0.0228</td>\n",
       "      <td>0.0228</td>\n",
       "      <td>0</td>\n",
       "      <td>0</td>\n",
       "      <td>0</td>\n",
       "      <td>0</td>\n",
       "      <td>0</td>\n",
       "      <td>0</td>\n",
       "    </tr>\n",
       "    <tr>\n",
       "      <th>2024-02-14 18:30:40</th>\n",
       "      <td>0.356</td>\n",
       "      <td>0.381</td>\n",
       "      <td>0.329</td>\n",
       "      <td>0.173</td>\n",
       "      <td>0.330</td>\n",
       "      <td>0.190</td>\n",
       "      <td>0.0342</td>\n",
       "      <td>0.0342</td>\n",
       "      <td>0.0171</td>\n",
       "      <td>0.0171</td>\n",
       "      <td>0.0171</td>\n",
       "      <td>0.0171</td>\n",
       "      <td>0</td>\n",
       "      <td>0</td>\n",
       "      <td>0</td>\n",
       "      <td>0</td>\n",
       "      <td>0</td>\n",
       "      <td>0</td>\n",
       "    </tr>\n",
       "    <tr>\n",
       "      <th>...</th>\n",
       "      <td>...</td>\n",
       "      <td>...</td>\n",
       "      <td>...</td>\n",
       "      <td>...</td>\n",
       "      <td>...</td>\n",
       "      <td>...</td>\n",
       "      <td>...</td>\n",
       "      <td>...</td>\n",
       "      <td>...</td>\n",
       "      <td>...</td>\n",
       "      <td>...</td>\n",
       "      <td>...</td>\n",
       "      <td>...</td>\n",
       "      <td>...</td>\n",
       "      <td>...</td>\n",
       "      <td>...</td>\n",
       "      <td>...</td>\n",
       "      <td>...</td>\n",
       "    </tr>\n",
       "    <tr>\n",
       "      <th>2024-02-15 04:59:20</th>\n",
       "      <td>0.368</td>\n",
       "      <td>0.364</td>\n",
       "      <td>0.189</td>\n",
       "      <td>0.175</td>\n",
       "      <td>0.402</td>\n",
       "      <td>0.258</td>\n",
       "      <td>0.0360</td>\n",
       "      <td>0.0345</td>\n",
       "      <td>0.0174</td>\n",
       "      <td>0.0168</td>\n",
       "      <td>0.0183</td>\n",
       "      <td>0.0174</td>\n",
       "      <td>0</td>\n",
       "      <td>0</td>\n",
       "      <td>0</td>\n",
       "      <td>0</td>\n",
       "      <td>0</td>\n",
       "      <td>0</td>\n",
       "    </tr>\n",
       "    <tr>\n",
       "      <th>2024-02-15 04:59:30</th>\n",
       "      <td>0.504</td>\n",
       "      <td>0.472</td>\n",
       "      <td>0.243</td>\n",
       "      <td>0.234</td>\n",
       "      <td>0.470</td>\n",
       "      <td>0.286</td>\n",
       "      <td>0.0480</td>\n",
       "      <td>0.0453</td>\n",
       "      <td>0.0228</td>\n",
       "      <td>0.0225</td>\n",
       "      <td>0.0240</td>\n",
       "      <td>0.0228</td>\n",
       "      <td>0</td>\n",
       "      <td>0</td>\n",
       "      <td>0</td>\n",
       "      <td>0</td>\n",
       "      <td>0</td>\n",
       "      <td>0</td>\n",
       "    </tr>\n",
       "    <tr>\n",
       "      <th>2024-02-15 04:59:40</th>\n",
       "      <td>1.290</td>\n",
       "      <td>0.357</td>\n",
       "      <td>0.177</td>\n",
       "      <td>0.175</td>\n",
       "      <td>0.287</td>\n",
       "      <td>0.200</td>\n",
       "      <td>0.0429</td>\n",
       "      <td>0.0348</td>\n",
       "      <td>0.0174</td>\n",
       "      <td>0.0171</td>\n",
       "      <td>0.0180</td>\n",
       "      <td>0.0171</td>\n",
       "      <td>0</td>\n",
       "      <td>0</td>\n",
       "      <td>0</td>\n",
       "      <td>0</td>\n",
       "      <td>0</td>\n",
       "      <td>0</td>\n",
       "    </tr>\n",
       "    <tr>\n",
       "      <th>2024-02-15 04:59:50</th>\n",
       "      <td>0.361</td>\n",
       "      <td>0.361</td>\n",
       "      <td>0.186</td>\n",
       "      <td>0.175</td>\n",
       "      <td>0.312</td>\n",
       "      <td>0.217</td>\n",
       "      <td>0.0360</td>\n",
       "      <td>0.0342</td>\n",
       "      <td>0.0174</td>\n",
       "      <td>0.0168</td>\n",
       "      <td>0.0183</td>\n",
       "      <td>0.0174</td>\n",
       "      <td>0</td>\n",
       "      <td>0</td>\n",
       "      <td>0</td>\n",
       "      <td>0</td>\n",
       "      <td>0</td>\n",
       "      <td>0</td>\n",
       "    </tr>\n",
       "    <tr>\n",
       "      <th>2024-02-15 05:00:00</th>\n",
       "      <td>0.493</td>\n",
       "      <td>0.472</td>\n",
       "      <td>0.239</td>\n",
       "      <td>0.234</td>\n",
       "      <td>0.447</td>\n",
       "      <td>0.298</td>\n",
       "      <td>0.0468</td>\n",
       "      <td>0.0450</td>\n",
       "      <td>0.0228</td>\n",
       "      <td>0.0222</td>\n",
       "      <td>0.0231</td>\n",
       "      <td>0.0228</td>\n",
       "      <td>0</td>\n",
       "      <td>0</td>\n",
       "      <td>0</td>\n",
       "      <td>0</td>\n",
       "      <td>0</td>\n",
       "      <td>0</td>\n",
       "    </tr>\n",
       "  </tbody>\n",
       "</table>\n",
       "<p>3781 rows × 18 columns</p>\n",
       "</div>"
      ],
      "text/plain": [
       "                     camunda-platform-elasticsearch-master-0 / camunda8 / PKG  \\\n",
       "Time                                                                            \n",
       "2024-02-14 18:30:00                                              0.544          \n",
       "2024-02-14 18:30:10                                              0.350          \n",
       "2024-02-14 18:30:20                                              0.362          \n",
       "2024-02-14 18:30:30                                              0.518          \n",
       "2024-02-14 18:30:40                                              0.356          \n",
       "...                                                                ...          \n",
       "2024-02-15 04:59:20                                              0.368          \n",
       "2024-02-15 04:59:30                                              0.504          \n",
       "2024-02-15 04:59:40                                              1.290          \n",
       "2024-02-15 04:59:50                                              0.361          \n",
       "2024-02-15 05:00:00                                              0.493          \n",
       "\n",
       "                     camunda-platform-elasticsearch-master-1 / camunda8 / PKG  \\\n",
       "Time                                                                            \n",
       "2024-02-14 18:30:00                                              0.485          \n",
       "2024-02-14 18:30:10                                              0.379          \n",
       "2024-02-14 18:30:20                                              0.363          \n",
       "2024-02-14 18:30:30                                              0.478          \n",
       "2024-02-14 18:30:40                                              0.381          \n",
       "...                                                                ...          \n",
       "2024-02-15 04:59:20                                              0.364          \n",
       "2024-02-15 04:59:30                                              0.472          \n",
       "2024-02-15 04:59:40                                              0.357          \n",
       "2024-02-15 04:59:50                                              0.361          \n",
       "2024-02-15 05:00:00                                              0.472          \n",
       "\n",
       "                     camunda-platform-operate-5bc7c489c4-8zrg4 / camunda8 / PKG  \\\n",
       "Time                                                                              \n",
       "2024-02-14 18:30:00                                              0.242            \n",
       "2024-02-14 18:30:10                                              0.172            \n",
       "2024-02-14 18:30:20                                              0.174            \n",
       "2024-02-14 18:30:30                                              0.241            \n",
       "2024-02-14 18:30:40                                              0.329            \n",
       "...                                                                ...            \n",
       "2024-02-15 04:59:20                                              0.189            \n",
       "2024-02-15 04:59:30                                              0.243            \n",
       "2024-02-15 04:59:40                                              0.177            \n",
       "2024-02-15 04:59:50                                              0.186            \n",
       "2024-02-15 05:00:00                                              0.239            \n",
       "\n",
       "                     camunda-platform-tasklist-9968d5594-9257r / camunda8 / PKG  \\\n",
       "Time                                                                              \n",
       "2024-02-14 18:30:00                                              0.237            \n",
       "2024-02-14 18:30:10                                              0.170            \n",
       "2024-02-14 18:30:20                                              0.171            \n",
       "2024-02-14 18:30:30                                              0.234            \n",
       "2024-02-14 18:30:40                                              0.173            \n",
       "...                                                                ...            \n",
       "2024-02-15 04:59:20                                              0.175            \n",
       "2024-02-15 04:59:30                                              0.234            \n",
       "2024-02-15 04:59:40                                              0.175            \n",
       "2024-02-15 04:59:50                                              0.175            \n",
       "2024-02-15 05:00:00                                              0.234            \n",
       "\n",
       "                     camunda-platform-zeebe-0 / camunda8 / PKG  \\\n",
       "Time                                                             \n",
       "2024-02-14 18:30:00                                      0.526   \n",
       "2024-02-14 18:30:10                                      0.329   \n",
       "2024-02-14 18:30:20                                      0.412   \n",
       "2024-02-14 18:30:30                                      0.490   \n",
       "2024-02-14 18:30:40                                      0.330   \n",
       "...                                                        ...   \n",
       "2024-02-15 04:59:20                                      0.402   \n",
       "2024-02-15 04:59:30                                      0.470   \n",
       "2024-02-15 04:59:40                                      0.287   \n",
       "2024-02-15 04:59:50                                      0.312   \n",
       "2024-02-15 05:00:00                                      0.447   \n",
       "\n",
       "                     camunda-platform-zeebe-gateway-5ff76496c4-n9kzj / camunda8 / PKG  \\\n",
       "Time                                                                                    \n",
       "2024-02-14 18:30:00                                              0.300                  \n",
       "2024-02-14 18:30:10                                              0.203                  \n",
       "2024-02-14 18:30:20                                              0.203                  \n",
       "2024-02-14 18:30:30                                              0.277                  \n",
       "2024-02-14 18:30:40                                              0.190                  \n",
       "...                                                                ...                  \n",
       "2024-02-15 04:59:20                                              0.258                  \n",
       "2024-02-15 04:59:30                                              0.286                  \n",
       "2024-02-15 04:59:40                                              0.200                  \n",
       "2024-02-15 04:59:50                                              0.217                  \n",
       "2024-02-15 05:00:00                                              0.298                  \n",
       "\n",
       "                     camunda-platform-elasticsearch-master-0 / camunda8 / DRAM  \\\n",
       "Time                                                                             \n",
       "2024-02-14 18:30:00                                             0.0468           \n",
       "2024-02-14 18:30:10                                             0.0402           \n",
       "2024-02-14 18:30:20                                             0.0456           \n",
       "2024-02-14 18:30:30                                             0.0456           \n",
       "2024-02-14 18:30:40                                             0.0342           \n",
       "...                                                                ...           \n",
       "2024-02-15 04:59:20                                             0.0360           \n",
       "2024-02-15 04:59:30                                             0.0480           \n",
       "2024-02-15 04:59:40                                             0.0429           \n",
       "2024-02-15 04:59:50                                             0.0360           \n",
       "2024-02-15 05:00:00                                             0.0468           \n",
       "\n",
       "                     camunda-platform-elasticsearch-master-1 / camunda8 / DRAM  \\\n",
       "Time                                                                             \n",
       "2024-02-14 18:30:00                                             0.0468           \n",
       "2024-02-14 18:30:10                                             0.0402           \n",
       "2024-02-14 18:30:20                                             0.0456           \n",
       "2024-02-14 18:30:30                                             0.0456           \n",
       "2024-02-14 18:30:40                                             0.0342           \n",
       "...                                                                ...           \n",
       "2024-02-15 04:59:20                                             0.0345           \n",
       "2024-02-15 04:59:30                                             0.0453           \n",
       "2024-02-15 04:59:40                                             0.0348           \n",
       "2024-02-15 04:59:50                                             0.0342           \n",
       "2024-02-15 05:00:00                                             0.0450           \n",
       "\n",
       "                     camunda-platform-operate-5bc7c489c4-8zrg4 / camunda8 / DRAM  \\\n",
       "Time                                                                               \n",
       "2024-02-14 18:30:00                                             0.0234             \n",
       "2024-02-14 18:30:10                                             0.0201             \n",
       "2024-02-14 18:30:20                                             0.0228             \n",
       "2024-02-14 18:30:30                                             0.0228             \n",
       "2024-02-14 18:30:40                                             0.0171             \n",
       "...                                                                ...             \n",
       "2024-02-15 04:59:20                                             0.0174             \n",
       "2024-02-15 04:59:30                                             0.0228             \n",
       "2024-02-15 04:59:40                                             0.0174             \n",
       "2024-02-15 04:59:50                                             0.0174             \n",
       "2024-02-15 05:00:00                                             0.0228             \n",
       "\n",
       "                     camunda-platform-tasklist-9968d5594-9257r / camunda8 / DRAM  \\\n",
       "Time                                                                               \n",
       "2024-02-14 18:30:00                                             0.0234             \n",
       "2024-02-14 18:30:10                                             0.0201             \n",
       "2024-02-14 18:30:20                                             0.0228             \n",
       "2024-02-14 18:30:30                                             0.0228             \n",
       "2024-02-14 18:30:40                                             0.0171             \n",
       "...                                                                ...             \n",
       "2024-02-15 04:59:20                                             0.0168             \n",
       "2024-02-15 04:59:30                                             0.0225             \n",
       "2024-02-15 04:59:40                                             0.0171             \n",
       "2024-02-15 04:59:50                                             0.0168             \n",
       "2024-02-15 05:00:00                                             0.0222             \n",
       "\n",
       "                     camunda-platform-zeebe-0 / camunda8 / DRAM  \\\n",
       "Time                                                              \n",
       "2024-02-14 18:30:00                                      0.0234   \n",
       "2024-02-14 18:30:10                                      0.0201   \n",
       "2024-02-14 18:30:20                                      0.0228   \n",
       "2024-02-14 18:30:30                                      0.0228   \n",
       "2024-02-14 18:30:40                                      0.0171   \n",
       "...                                                         ...   \n",
       "2024-02-15 04:59:20                                      0.0183   \n",
       "2024-02-15 04:59:30                                      0.0240   \n",
       "2024-02-15 04:59:40                                      0.0180   \n",
       "2024-02-15 04:59:50                                      0.0183   \n",
       "2024-02-15 05:00:00                                      0.0231   \n",
       "\n",
       "                     camunda-platform-zeebe-gateway-5ff76496c4-n9kzj / camunda8 / DRAM  \\\n",
       "Time                                                                                     \n",
       "2024-02-14 18:30:00                                             0.0234                   \n",
       "2024-02-14 18:30:10                                             0.0201                   \n",
       "2024-02-14 18:30:20                                             0.0228                   \n",
       "2024-02-14 18:30:30                                             0.0228                   \n",
       "2024-02-14 18:30:40                                             0.0171                   \n",
       "...                                                                ...                   \n",
       "2024-02-15 04:59:20                                             0.0174                   \n",
       "2024-02-15 04:59:30                                             0.0228                   \n",
       "2024-02-15 04:59:40                                             0.0171                   \n",
       "2024-02-15 04:59:50                                             0.0174                   \n",
       "2024-02-15 05:00:00                                             0.0228                   \n",
       "\n",
       "                     camunda-platform-elasticsearch-master-0 / camunda8 / OTHER  \\\n",
       "Time                                                                              \n",
       "2024-02-14 18:30:00                                                  0            \n",
       "2024-02-14 18:30:10                                                  0            \n",
       "2024-02-14 18:30:20                                                  0            \n",
       "2024-02-14 18:30:30                                                  0            \n",
       "2024-02-14 18:30:40                                                  0            \n",
       "...                                                                ...            \n",
       "2024-02-15 04:59:20                                                  0            \n",
       "2024-02-15 04:59:30                                                  0            \n",
       "2024-02-15 04:59:40                                                  0            \n",
       "2024-02-15 04:59:50                                                  0            \n",
       "2024-02-15 05:00:00                                                  0            \n",
       "\n",
       "                     camunda-platform-elasticsearch-master-1 / camunda8 / OTHER  \\\n",
       "Time                                                                              \n",
       "2024-02-14 18:30:00                                                  0            \n",
       "2024-02-14 18:30:10                                                  0            \n",
       "2024-02-14 18:30:20                                                  0            \n",
       "2024-02-14 18:30:30                                                  0            \n",
       "2024-02-14 18:30:40                                                  0            \n",
       "...                                                                ...            \n",
       "2024-02-15 04:59:20                                                  0            \n",
       "2024-02-15 04:59:30                                                  0            \n",
       "2024-02-15 04:59:40                                                  0            \n",
       "2024-02-15 04:59:50                                                  0            \n",
       "2024-02-15 05:00:00                                                  0            \n",
       "\n",
       "                     camunda-platform-operate-5bc7c489c4-8zrg4 / camunda8 / OTHER  \\\n",
       "Time                                                                                \n",
       "2024-02-14 18:30:00                                                  0              \n",
       "2024-02-14 18:30:10                                                  0              \n",
       "2024-02-14 18:30:20                                                  0              \n",
       "2024-02-14 18:30:30                                                  0              \n",
       "2024-02-14 18:30:40                                                  0              \n",
       "...                                                                ...              \n",
       "2024-02-15 04:59:20                                                  0              \n",
       "2024-02-15 04:59:30                                                  0              \n",
       "2024-02-15 04:59:40                                                  0              \n",
       "2024-02-15 04:59:50                                                  0              \n",
       "2024-02-15 05:00:00                                                  0              \n",
       "\n",
       "                     camunda-platform-tasklist-9968d5594-9257r / camunda8 / OTHER  \\\n",
       "Time                                                                                \n",
       "2024-02-14 18:30:00                                                  0              \n",
       "2024-02-14 18:30:10                                                  0              \n",
       "2024-02-14 18:30:20                                                  0              \n",
       "2024-02-14 18:30:30                                                  0              \n",
       "2024-02-14 18:30:40                                                  0              \n",
       "...                                                                ...              \n",
       "2024-02-15 04:59:20                                                  0              \n",
       "2024-02-15 04:59:30                                                  0              \n",
       "2024-02-15 04:59:40                                                  0              \n",
       "2024-02-15 04:59:50                                                  0              \n",
       "2024-02-15 05:00:00                                                  0              \n",
       "\n",
       "                     camunda-platform-zeebe-0 / camunda8 / OTHER  \\\n",
       "Time                                                               \n",
       "2024-02-14 18:30:00                                            0   \n",
       "2024-02-14 18:30:10                                            0   \n",
       "2024-02-14 18:30:20                                            0   \n",
       "2024-02-14 18:30:30                                            0   \n",
       "2024-02-14 18:30:40                                            0   \n",
       "...                                                          ...   \n",
       "2024-02-15 04:59:20                                            0   \n",
       "2024-02-15 04:59:30                                            0   \n",
       "2024-02-15 04:59:40                                            0   \n",
       "2024-02-15 04:59:50                                            0   \n",
       "2024-02-15 05:00:00                                            0   \n",
       "\n",
       "                     camunda-platform-zeebe-gateway-5ff76496c4-n9kzj / camunda8 / OTHER  \n",
       "Time                                                                                     \n",
       "2024-02-14 18:30:00                                                  0                   \n",
       "2024-02-14 18:30:10                                                  0                   \n",
       "2024-02-14 18:30:20                                                  0                   \n",
       "2024-02-14 18:30:30                                                  0                   \n",
       "2024-02-14 18:30:40                                                  0                   \n",
       "...                                                                ...                   \n",
       "2024-02-15 04:59:20                                                  0                   \n",
       "2024-02-15 04:59:30                                                  0                   \n",
       "2024-02-15 04:59:40                                                  0                   \n",
       "2024-02-15 04:59:50                                                  0                   \n",
       "2024-02-15 05:00:00                                                  0                   \n",
       "\n",
       "[3781 rows x 18 columns]"
      ]
     },
     "execution_count": 207,
     "metadata": {},
     "output_type": "execute_result"
    }
   ],
   "source": [
    "import pandas as pd\n",
    "import numpy as np\n",
    "import matplotlib.pyplot as plt\n",
    "from matplotlib.ticker import MultipleLocator\n",
    "from scipy.stats.mstats import winsorize\n",
    "\n",
    "#read Worker Power CSV\n",
    "worker_power = pd.read_csv(\"CSV-mja/2024-02-14 18-30-00 worker power.csv\", \n",
    "                     header=1, # which row contains column headers\n",
    "                     index_col=0   ) # which column contains labels\n",
    "\n",
    "#read zeebe Power CSV\n",
    "zeebe_power = pd.read_csv(\"CSV-mja/2024-02-14 18-30-00 zeebe power.csv\", \n",
    "                     header=1, # which row contains column headers\n",
    "                     index_col=0   ) # which column contains labels\n",
    "\n",
    "#read Worker: Jobs Finished CSV\n",
    "worker_jobs_finished = pd.read_csv(\"CSV-mja/2024-02-14 18-30-00 worker job completion.csv\", \n",
    "                     header=1, # which row contains column headers\n",
    "                     index_col=0   ) # which column contains labels\n",
    "\n",
    "#read Worker: Jobs Started CSV\n",
    "worker_jobs_started = pd.read_csv(\"CSV-mja/2024-02-14 18-30-00 worker job creation.csv\", \n",
    "                     header=1, # which row contains column headers\n",
    "                     index_col=0   ) # which column contains labels\n",
    "\n",
    "#read Zeebe gRPC CSV\n",
    "zeebe_grpc = pd.read_csv(\"CSV-mja/2024-02-14 18-30-00 zeebe grpc.csv\", \n",
    "                     header=1, # which row contains column headers\n",
    "                     index_col=0   ) # which column contains labels\n",
    "\n",
    "#read Zeebe Job Creation CSV\n",
    "zeebe_job_creation = pd.read_csv(\"CSV-mja/2024-02-14 18-30-00 zeebe job creation.csv\", \n",
    "                     header=1, # which row contains column headers\n",
    "                     index_col=0   ) # which column contains labels\n",
    "\n",
    "#read Zeebe Job Completion CSV\n",
    "zeebe_job_completion = pd.read_csv(\"CSV-mja/2024-02-14 18-30-00 zeebe job completion.csv\", \n",
    "                     header=1, # which row contains column headers\n",
    "                     index_col=0   ) # which column contains labels\n",
    "\n",
    "zeebe_power\n"
   ]
  },
  {
   "cell_type": "markdown",
   "metadata": {},
   "source": [
    "**Log-Datei einlesen**"
   ]
  },
  {
   "cell_type": "code",
   "execution_count": 208,
   "metadata": {},
   "outputs": [],
   "source": [
    "LOG_PATH = \"shell-scripts/logs/mja/\"\n",
    "LOG_NAME = \"mja2.sh-2024-02-14-18-30-00-load_generator_8x90_parallel\"\n",
    "\n",
    "# read all 3 log file of START times\n",
    "\n",
    "def read_start_times(LOG_PATH = LOG_PATH,LOG_NAME = LOG_NAME):\n",
    "    start_times = []\n",
    "    settings= []\n",
    "\n",
    "    with open(LOG_PATH+LOG_NAME, \"r\") as file:\n",
    "        log_lines = file.readlines()\n",
    "\n",
    "    # remove newline-character, \n",
    "    for i, time in enumerate(log_lines):\n",
    "        line = time.split()\n",
    "\n",
    "        #append and remove dash between time and date to match index of CSVs\n",
    "        start_times.append(line[0][:10] + \" \" + line[0][11:])\n",
    "\n",
    "        settings.append(line[1])\n",
    "\n",
    "    return start_times, settings\n",
    "\n",
    "start_times, settings = read_start_times()"
   ]
  },
  {
   "cell_type": "markdown",
   "metadata": {},
   "source": [
    "# 2. Daten aufbereiten\n",
    "\n",
    "1) Addiere alle Messwerte von Kepler\n",
    "2) Generiere Leerlauf-Muster\n",
    "3) Subtrahiere Leerlauf-Muster\n",
    "\n",
    "4) Vereine Completion und Power\n",
    "5) Generiere Durchsatz-Buckets\n",
    "6) Berechne Outlier pro Bucket"
   ]
  },
  {
   "cell_type": "markdown",
   "metadata": {},
   "source": [
    "### Messwerte aus Kepler einlesen und summieren"
   ]
  },
  {
   "cell_type": "code",
   "execution_count": 209,
   "metadata": {},
   "outputs": [],
   "source": [
    "completion_and_power = pd.DataFrame()\n",
    "\n",
    "worker_cols = [col for col in worker_power.columns if 'restworkerjava' in col ]\n",
    "zeebe_cols = [col for col in zeebe_power.columns if 'zeebe' in col ]\n",
    "\n",
    "# sum up PKG + DRAM + OTHER for each time stamp\n",
    "completion_and_power['worker_power'] = worker_power[worker_cols].sum(axis=1)\n",
    "completion_and_power['zeebe_power'] = zeebe_power[zeebe_cols].sum(axis=1)"
   ]
  },
  {
   "cell_type": "markdown",
   "metadata": {},
   "source": [
    "### Durchsatzwerte aus Worker, Zeebe und gRPC einlesen"
   ]
  },
  {
   "cell_type": "code",
   "execution_count": 210,
   "metadata": {},
   "outputs": [],
   "source": [
    "completion_and_power['jobs_started'] = worker_jobs_started['worker'] // 1\n",
    "completion_and_power['jobs_finished'] = worker_jobs_finished['worker'] // 1\n",
    "completion_and_power['jobs_open'] = completion_and_power['jobs_started'] - completion_and_power['jobs_finished']\n",
    "completion_and_power['grpc_activation_ok'] = zeebe_grpc['ActivateJobs (OK)']\n",
    "completion_and_power['grpc_activation_exhausted'] = zeebe_grpc['ActivateJobs (RESOURCE_EXHAUSTED)']\n",
    "completion_and_power['grpc_activation_total'] = completion_and_power['grpc_activation_ok'] + completion_and_power['grpc_activation_exhausted']\n",
    "completion_and_power['grpc_completion_ok'] = zeebe_grpc['CompleteJob (OK)']\n",
    "completion_and_power['zeebe_job_creation'] = zeebe_job_creation['Job creation camunda8']\n",
    "completion_and_power['zeebe_job_completion'] = zeebe_job_completion['Job completion camunda8']"
   ]
  },
  {
   "cell_type": "markdown",
   "metadata": {},
   "source": [
    "### Generiere Leerlauf-Muster + Subtrahiere Leerlauf-Muster"
   ]
  },
  {
   "cell_type": "code",
   "execution_count": 211,
   "metadata": {},
   "outputs": [],
   "source": [
    "def create_idle_pattern(column):\n",
    "    # set all completion >= 1 to NaN\n",
    "\n",
    "    idle_power = completion_and_power.copy()\n",
    "    idle_power[(idle_power['jobs_started'] >= 1) & (idle_power['jobs_finished'] >= 1)] = np.nan\n",
    "\n",
    "\n",
    "    # generate medians for 00:00, 00:10, 00:20\n",
    "    \n",
    "\n",
    "    # reshape series\n",
    "    idle_pattern = pd.DataFrame(idle_power[column][:-1].to_numpy().reshape(-1, 3), columns=['00:00', '00:10', '00:20'])\n",
    "    idle_pattern = filter_outliers_iqr(idle_pattern)\n",
    "\n",
    "    medians = idle_pattern.median(axis=0)\n",
    "\n",
    "    return medians\n",
    "\n",
    "worker_idle_medians = create_idle_pattern('worker_power')\n",
    "zeebe_idle_medians = create_idle_pattern('zeebe_power')\n"
   ]
  },
  {
   "cell_type": "code",
   "execution_count": 212,
   "metadata": {},
   "outputs": [],
   "source": [
    "def remove_idle_power(df, pattern, column):\n",
    "    pattern_series = pd.Series()\n",
    "    \n",
    "    difference = 0\n",
    "    \n",
    "    # repeat the pattern until length of df.index is reached\n",
    "    while len(pattern_series) < len(df.index):\n",
    "        pattern_series = pd.concat([pattern_series, pattern])\n",
    "        difference = len(pattern_series) - len(df.index)\n",
    "\n",
    "    pattern_series = pattern_series[:-difference]\n",
    "    pattern_series.index = df.index\n",
    "\n",
    "    pattern_series = pattern_series.apply(pd.to_numeric, errors='coerce')\n",
    "\n",
    "    df[f\"{column}_no_idle\"] = df[column] - pattern_series\n",
    "    df[f\"{column}_idle\"] = pattern_series\n",
    "\n",
    "\n",
    "    return df\n",
    "\n",
    "cap_no_idle = remove_idle_power(completion_and_power, worker_idle_medians, \"worker_power\")\n",
    "cap_no_idle = remove_idle_power(completion_and_power, zeebe_idle_medians, \"zeebe_power\")"
   ]
  },
  {
   "cell_type": "markdown",
   "metadata": {},
   "source": [
    "### Generiere Energieverbrauch pro Job"
   ]
  },
  {
   "cell_type": "code",
   "execution_count": 213,
   "metadata": {},
   "outputs": [],
   "source": [
    "cap_no_idle['worker_power_per_job_no_idle'] = cap_no_idle['worker_power_no_idle'] / cap_no_idle['jobs_started']\n",
    "cap_no_idle['zeebe_power_per_job_no_idle'] = cap_no_idle['zeebe_power_no_idle'] / cap_no_idle['jobs_started']"
   ]
  },
  {
   "cell_type": "markdown",
   "metadata": {},
   "source": [
    "### Entferne Zeitpunkte ohne Durchsatz"
   ]
  },
  {
   "cell_type": "code",
   "execution_count": 214,
   "metadata": {},
   "outputs": [],
   "source": [
    "cap_no_idle = cap_no_idle[(cap_no_idle['jobs_started'] >= 1) & (cap_no_idle['jobs_finished'] >= 1)]"
   ]
  },
  {
   "cell_type": "markdown",
   "metadata": {},
   "source": [
    "### Teile Messreihen nach Konfiguration\n"
   ]
  },
  {
   "cell_type": "code",
   "execution_count": 215,
   "metadata": {},
   "outputs": [],
   "source": [
    "\n",
    "START_MJA8 = start_times[8]\n",
    "# before first entry of mja64, there was 1 min of waiting for new worker and 5 minutes of cooloff - so 360 seconds -> 36 entries in index\n",
    "end_mja8_index = completion_and_power.index.get_loc(start_times[90]) - 36\n",
    "END_MJA8 = completion_and_power.index[end_mja8_index]\n",
    "\n",
    "START_MJA64 = start_times[104]\n",
    "end_mja64_index = completion_and_power.index.get_loc(start_times[180]) - 36\n",
    "END_MJA64 = completion_and_power.index[end_mja64_index]\n",
    "\n",
    "START_MJA512 = start_times[188]\n",
    "# End for mja512 not needed, since we cut the zero throughput times later on\n",
    "\n",
    "data_8 = cap_no_idle.loc[START_MJA8:END_MJA8,:]\n",
    "data_64 = cap_no_idle.loc[START_MJA64:END_MJA64,:]\n",
    "data_512 = cap_no_idle.loc[START_MJA512:,:]"
   ]
  },
  {
   "cell_type": "markdown",
   "metadata": {},
   "source": [
    "### Sortiere nach Durchsatz"
   ]
  },
  {
   "cell_type": "code",
   "execution_count": 216,
   "metadata": {},
   "outputs": [],
   "source": [
    "THROUGHPUT_COLUMN = 'jobs_finished'\n",
    "\n",
    "sorted_8 = data_8.sort_values(by=THROUGHPUT_COLUMN)\n",
    "sorted_64 = data_64.sort_values(by=THROUGHPUT_COLUMN)\n",
    "sorted_512 = data_512.sort_values(by=THROUGHPUT_COLUMN)\n",
    "all_sorted = cap_no_idle.sort_values(by=THROUGHPUT_COLUMN)\n"
   ]
  },
  {
   "cell_type": "markdown",
   "metadata": {},
   "source": [
    "### Generiere Durchsatz-Buckets pro Job\n"
   ]
  },
  {
   "cell_type": "code",
   "execution_count": 217,
   "metadata": {},
   "outputs": [],
   "source": [
    "# Bucket Params\n",
    "BUCKET_WIDTH = 30\n",
    "\n",
    "def create_buckets(df, col, bucket_width):\n",
    "\n",
    "    # create limits for buckets\n",
    "    max_throughput = int(df[col].max())\n",
    "    min_throughput = int(df[col].min())\n",
    "    span_throughput = int(max_throughput - min_throughput)\n",
    "\n",
    "    # number of buckets\n",
    "    num_buckets = (span_throughput // bucket_width) + 1\n",
    "\n",
    "    buckets = [i for i in range(min_throughput ,max_throughput + bucket_width, bucket_width)]\n",
    "    bucket_labels = [f\"{buckets[i]} - {buckets[i+1]}\" for i in range(len(buckets) - 1)]\n",
    "\n",
    "    return buckets, bucket_labels\n",
    "\n",
    "\n",
    "buckets, bucket_labels = create_buckets(all_sorted, 'jobs_started', BUCKET_WIDTH)\n",
    "\n"
   ]
  },
  {
   "cell_type": "markdown",
   "metadata": {},
   "source": [
    "### Sortiere nach Buckets"
   ]
  },
  {
   "cell_type": "code",
   "execution_count": 218,
   "metadata": {},
   "outputs": [],
   "source": [
    "def group_by_bucket(sorted_df, groupby, grouped_col, bucket_list):\n",
    "    df_grouped = pd.DataFrame()\n",
    "\n",
    "    grouped_list = [sorted_df[\n",
    "            (sorted_df[groupby] >= bucket_list[i]) \n",
    "            & \n",
    "            (sorted_df[groupby] < bucket_list[i + 1])\n",
    "            ]\n",
    "            [grouped_col]\n",
    "            .reset_index(drop=True) \n",
    "            for i in range(len(bucket_list) - 1)]\n",
    "\n",
    "    temp = pd.concat(grouped_list, axis=1)\n",
    "\n",
    "    temp.columns = bucket_list[0:len(bucket_list) - 1]\n",
    "\n",
    "    return temp"
   ]
  },
  {
   "cell_type": "markdown",
   "metadata": {},
   "source": [
    "**worker**"
   ]
  },
  {
   "cell_type": "code",
   "execution_count": 219,
   "metadata": {},
   "outputs": [],
   "source": [
    "grouped_8 = group_by_bucket(sorted_8, 'jobs_started', 'worker_power_no_idle', buckets)\n",
    "grouped_64 = group_by_bucket(sorted_64, 'jobs_started', 'worker_power_no_idle', buckets)\n",
    "grouped_512 = group_by_bucket(sorted_512, 'jobs_started', 'worker_power_no_idle', buckets)"
   ]
  },
  {
   "cell_type": "markdown",
   "metadata": {},
   "source": [
    "**zeebe**"
   ]
  },
  {
   "cell_type": "code",
   "execution_count": 220,
   "metadata": {},
   "outputs": [],
   "source": [
    "grouped_8_zeebe = group_by_bucket(sorted_8, 'jobs_started', 'zeebe_power_no_idle', buckets)\n",
    "grouped_64_zeebe = group_by_bucket(sorted_64, 'jobs_started', 'zeebe_power_no_idle', buckets)\n",
    "grouped_512_zeebe = group_by_bucket(sorted_512, 'jobs_started', 'zeebe_power_no_idle', buckets)"
   ]
  },
  {
   "cell_type": "markdown",
   "metadata": {},
   "source": [
    "### Entferne Ausreißer"
   ]
  },
  {
   "cell_type": "markdown",
   "metadata": {},
   "source": [
    "**worker**"
   ]
  },
  {
   "cell_type": "code",
   "execution_count": 221,
   "metadata": {},
   "outputs": [],
   "source": [
    "clean_8 = filter_outliers_iqr(grouped_8)\n",
    "clean_64 = filter_outliers_iqr(grouped_64)\n",
    "clean_512 = filter_outliers_iqr(grouped_512)"
   ]
  },
  {
   "cell_type": "markdown",
   "metadata": {},
   "source": [
    "**zeebe**"
   ]
  },
  {
   "cell_type": "code",
   "execution_count": 222,
   "metadata": {},
   "outputs": [],
   "source": [
    "clean_8_zeebe = filter_outliers_iqr(grouped_8_zeebe)\n",
    "clean_64_zeebe = filter_outliers_iqr(grouped_64_zeebe)\n",
    "clean_512_zeebe = filter_outliers_iqr(grouped_512_zeebe)"
   ]
  },
  {
   "cell_type": "markdown",
   "metadata": {},
   "source": [
    "#### Entferne Buckets unter X Einträgen"
   ]
  },
  {
   "cell_type": "code",
   "execution_count": 250,
   "metadata": {},
   "outputs": [],
   "source": [
    "BUCKET_MINIMUM = 30\n",
    "\n",
    "clean_8 = clean_8.dropna(axis=1, thresh=BUCKET_MINIMUM)\n",
    "clean_64 = clean_64.dropna(axis=1, thresh=BUCKET_MINIMUM)\n",
    "clean_512 = clean_512.dropna(axis=1, thresh=BUCKET_MINIMUM)\n",
    "\n",
    "clean_8_zeebe = clean_8_zeebe.dropna(axis=1, thresh=BUCKET_MINIMUM)\n",
    "clean_64_zeebe = clean_64_zeebe.dropna(axis=1, thresh=BUCKET_MINIMUM)\n",
    "clean_512_zeebe = clean_512_zeebe.dropna(axis=1, thresh=BUCKET_MINIMUM)\n",
    "\n"
   ]
  },
  {
   "cell_type": "code",
   "execution_count": 251,
   "metadata": {},
   "outputs": [],
   "source": [
    "lmh_hist = pd.DataFrame()\n",
    "\n",
    "lmh_hist['mja8'] = clean_8.count()\n",
    "lmh_hist['mja64'] = clean_64.count()\n",
    "lmh_hist['mja1024'] = clean_512.count()\n",
    "\n",
    "lmh_hist = lmh_hist.dropna(axis=0, thresh=3)"
   ]
  },
  {
   "cell_type": "code",
   "execution_count": 252,
   "metadata": {},
   "outputs": [
    {
     "data": {
      "text/plain": [
       "<Axes: title={'center': 'Sample Sizes in Buckets'}>"
      ]
     },
     "execution_count": 252,
     "metadata": {},
     "output_type": "execute_result"
    },
    {
     "data": {
      "image/png": "[encoded data removed]",
      "text/plain": [
       "<Figure size 640x480 with 1 Axes>"
      ]
     },
     "metadata": {},
     "output_type": "display_data"
    }
   ],
   "source": [
    "lmh_hist.plot(kind='bar', title='Sample Sizes in Buckets')"
   ]
  },
  {
   "cell_type": "code",
   "execution_count": 253,
   "metadata": {},
   "outputs": [
    {
     "data": {
      "text/html": [
       "<div>\n",
       "<style scoped>\n",
       "    .dataframe tbody tr th:only-of-type {\n",
       "        vertical-align: middle;\n",
       "    }\n",
       "\n",
       "    .dataframe tbody tr th {\n",
       "        vertical-align: top;\n",
       "    }\n",
       "\n",
       "    .dataframe thead th {\n",
       "        text-align: right;\n",
       "    }\n",
       "</style>\n",
       "<table border=\"1\" class=\"dataframe\">\n",
       "  <thead>\n",
       "    <tr style=\"text-align: right;\">\n",
       "      <th></th>\n",
       "      <th>mja8</th>\n",
       "      <th>mja64</th>\n",
       "      <th>mja1024</th>\n",
       "    </tr>\n",
       "  </thead>\n",
       "  <tbody>\n",
       "    <tr>\n",
       "      <th>1</th>\n",
       "      <td>312</td>\n",
       "      <td>187.0</td>\n",
       "      <td>260.0</td>\n",
       "    </tr>\n",
       "    <tr>\n",
       "      <th>61</th>\n",
       "      <td>318</td>\n",
       "      <td>323.0</td>\n",
       "      <td>311.0</td>\n",
       "    </tr>\n",
       "    <tr>\n",
       "      <th>121</th>\n",
       "      <td>68</td>\n",
       "      <td>287.0</td>\n",
       "      <td>329.0</td>\n",
       "    </tr>\n",
       "  </tbody>\n",
       "</table>\n",
       "</div>"
      ],
      "text/plain": [
       "     mja8  mja64  mja1024\n",
       "1     312  187.0    260.0\n",
       "61    318  323.0    311.0\n",
       "121    68  287.0    329.0"
      ]
     },
     "execution_count": 253,
     "metadata": {},
     "output_type": "execute_result"
    }
   ],
   "source": [
    "lmh_hist"
   ]
  },
  {
   "cell_type": "markdown",
   "metadata": {},
   "source": []
  },
  {
   "cell_type": "markdown",
   "metadata": {},
   "source": [
    "### Erstelle Vergleichstabelle\n",
    "Mediane nach Durchsatz sortiert"
   ]
  },
  {
   "cell_type": "markdown",
   "metadata": {},
   "source": [
    "**worker**"
   ]
  },
  {
   "cell_type": "code",
   "execution_count": 254,
   "metadata": {},
   "outputs": [],
   "source": [
    "hml_median = pd.DataFrame()\n",
    "hml_median['mja8'] = clean_8.median()\n",
    "hml_median['mja64'] = clean_64.median()\n",
    "hml_median['mja512'] = clean_512.median()"
   ]
  },
  {
   "cell_type": "markdown",
   "metadata": {},
   "source": [
    "**zeebe**"
   ]
  },
  {
   "cell_type": "code",
   "execution_count": 255,
   "metadata": {},
   "outputs": [],
   "source": [
    "hml_median_zeebe = pd.DataFrame()\n",
    "hml_median_zeebe['mja8'] = clean_8_zeebe.median()\n",
    "hml_median_zeebe['mja64'] = clean_64_zeebe.median()\n",
    "hml_median_zeebe['mja512'] = clean_512_zeebe.median()"
   ]
  },
  {
   "cell_type": "markdown",
   "metadata": {},
   "source": [
    "# Plotting"
   ]
  },
  {
   "cell_type": "code",
   "execution_count": 256,
   "metadata": {},
   "outputs": [],
   "source": [
    "# PLOT SETTINGS\n",
    "\n",
    "figsize = [9,8]\n",
    "whis= [0,100]\n",
    "\n",
    "# LABELS\n",
    "\n",
    "labels = {\n",
    "    'power' : 'Energieverbrauch in Watt pro Sekunde',\n",
    "    'throughput' : 'Jobs pro Sekunde'\n",
    "}\n",
    "\n",
    "\n"
   ]
  },
  {
   "cell_type": "code",
   "execution_count": 257,
   "metadata": {},
   "outputs": [
    {
     "data": {
      "text/plain": [
       "<Axes: title={'center': 'Energieverbrauch nach Durchsatz im Median (Zeebe)'}, xlabel='Jobs pro Sekunde', ylabel='Energieverbrauch in Watt pro Sekunde'>"
      ]
     },
     "execution_count": 257,
     "metadata": {},
     "output_type": "execute_result"
    },
    {
     "data": {
      "image/png": "[encoded data removed]",
      "text/plain": [
       "<Figure size 900x800 with 1 Axes>"
      ]
     },
     "metadata": {},
     "output_type": "display_data"
    },
    {
     "data": {
      "image/png": "[encoded data removed]",
      "text/plain": [
       "<Figure size 900x800 with 1 Axes>"
      ]
     },
     "metadata": {},
     "output_type": "display_data"
    }
   ],
   "source": [
    "hml_median.plot(kind='bar', rot=90, figsize=figsize, title=\"Energieverbrauch nach Durchsatz im Median (Worker)\", ylabel=labels['power'], xlabel=labels['throughput'])\n",
    "hml_median_zeebe.plot(kind='bar', rot=90, figsize=figsize, title=\"Energieverbrauch nach Durchsatz im Median (Zeebe)\", ylabel=labels['power'], xlabel=labels['throughput'])"
   ]
  },
  {
   "cell_type": "markdown",
   "metadata": {},
   "source": [
    "### Job-Aktivierung"
   ]
  },
  {
   "cell_type": "code",
   "execution_count": 258,
   "metadata": {},
   "outputs": [
    {
     "data": {
      "text/plain": [
       "Index(['worker_power', 'zeebe_power', 'jobs_started', 'jobs_finished',\n",
       "       'jobs_open', 'grpc_activation_ok', 'grpc_activation_exhausted',\n",
       "       'grpc_activation_total', 'grpc_completion_ok', 'zeebe_job_creation',\n",
       "       'zeebe_job_completion', 'worker_power_no_idle', 'worker_power_idle',\n",
       "       'zeebe_power_no_idle', 'zeebe_power_idle',\n",
       "       'worker_power_per_job_no_idle', 'zeebe_power_per_job_no_idle'],\n",
       "      dtype='object')"
      ]
     },
     "execution_count": 258,
     "metadata": {},
     "output_type": "execute_result"
    }
   ],
   "source": [
    "sorted_8.columns"
   ]
  },
  {
   "cell_type": "code",
   "execution_count": 281,
   "metadata": {},
   "outputs": [
    {
     "name": "stdout",
     "output_type": "stream",
     "text": [
      "[1, 11, 21, 31, 41, 51, 61, 71, 81, 91, 101, 111, 121, 131, 141, 151, 161, 171, 181, 191, 201, 211, 221, 231, 241, 251]\n"
     ]
    }
   ],
   "source": [
    "SORT_BY='jobs_started'\n",
    "SORTED_COLUMN='grpc_activation_ok'\n",
    "\n",
    "job_Activation_buckets, job_Activation_labels = create_buckets(all_sorted, SORT_BY, 10)\n",
    "print(job_Activation_buckets)\n",
    "\n",
    "\n",
    "activation_over_throughput_8_zeebe = filter_outliers_iqr(group_by_bucket(sorted_8, SORT_BY, SORTED_COLUMN, job_Activation_buckets)).dropna(axis=1, thresh=10)\n",
    "activation_over_throughput_64_zeebe = filter_outliers_iqr(group_by_bucket(sorted_64, SORT_BY, SORTED_COLUMN, job_Activation_buckets)).dropna(axis=1, thresh=10)\n",
    "activation_over_throughput_512_zeebe = filter_outliers_iqr(group_by_bucket(sorted_512, SORT_BY, SORTED_COLUMN, job_Activation_buckets)).dropna(axis=1, thresh=10)\n",
    "\n",
    "hml_median_zeebe_activation = pd.DataFrame()\n",
    "hml_median_zeebe_activation['mja8'] = activation_over_throughput_8_zeebe.median()\n",
    "hml_median_zeebe_activation['mja64'] = activation_over_throughput_64_zeebe.median()\n",
    "hml_median_zeebe_activation['mja512'] = activation_over_throughput_512_zeebe.median()"
   ]
  },
  {
   "cell_type": "code",
   "execution_count": 282,
   "metadata": {},
   "outputs": [
    {
     "data": {
      "text/plain": [
       "<Axes: title={'center': 'Jobaktivierungen nach Durchsatz im Median (Zeebe)'}, xlabel='Jobs pro Sekunde', ylabel='Energieverbrauch in Watt pro Sekunde'>"
      ]
     },
     "execution_count": 282,
     "metadata": {},
     "output_type": "execute_result"
    },
    {
     "data": {
      "image/png": "[encoded data removed]",
      "text/plain": [
       "<Figure size 900x800 with 1 Axes>"
      ]
     },
     "metadata": {},
     "output_type": "display_data"
    }
   ],
   "source": [
    "# hml_median.plot(kind='bar', rot=90, figsize=figsize, title=\"Energieverbrauch nach Durchsatz im Median (Worker)\", ylabel=labels['power'], xlabel=labels['throughput'])\n",
    "hml_median_zeebe_activation.plot(kind='bar', rot=90, figsize=figsize, title=\"Jobaktivierungen nach Durchsatz im Median (Zeebe)\", ylabel=labels['power'], xlabel=labels['throughput'])"
   ]
  },
  {
   "cell_type": "code",
   "execution_count": null,
   "metadata": {},
   "outputs": [],
   "source": [
    "SORT_BY='jobs_started'\n",
    "SORTED_COLUMN_WORKER='worker_power_per_job_no_idle'\n",
    "SORTED_COLUMN_ZEEBE='zeebe_power_per_job_no_idle'\n",
    "\n",
    "power_per_job_8_zeebe = filter_outliers_iqr(group_by_bucket(sorted_8, SORT_BY, SORTED_COLUMN_ZEEBE, buckets)).dropna(axis=1, thresh=10)\n",
    "power_per_job_64_zeebe = filter_outliers_iqr(group_by_bucket(sorted_64, SORT_BY, SORTED_COLUMN_ZEEBE, buckets)).dropna(axis=1, thresh=10)\n",
    "power_per_job_512_zeebe = filter_outliers_iqr(group_by_bucket(sorted_512, SORT_BY, SORTED_COLUMN_ZEEBE, buckets)).dropna(axis=1, thresh=10)\n",
    "\n",
    "hml_median_zeebe_per_job = pd.DataFrame()\n",
    "hml_median_zeebe_per_job['mja8'] = power_per_job_8_zeebe.median()\n",
    "hml_median_zeebe_per_job['mja64'] = power_per_job_64_zeebe.median()\n",
    "hml_median_zeebe_per_job['mja512'] = power_per_job_512_zeebe.median()\n",
    "\n",
    "power_per_job_8_worker = filter_outliers_iqr(group_by_bucket(sorted_8, SORT_BY, SORTED_COLUMN_WORKER, buckets)).dropna(axis=1, thresh=10)\n",
    "power_per_job_64_worker = filter_outliers_iqr(group_by_bucket(sorted_64, SORT_BY, SORTED_COLUMN_WORKER, buckets)).dropna(axis=1, thresh=10)\n",
    "power_per_job_512_worker = filter_outliers_iqr(group_by_bucket(sorted_512, SORT_BY, SORTED_COLUMN_WORKER, buckets)).dropna(axis=1, thresh=10)\n",
    "\n",
    "hml_median_worker_per_job = pd.DataFrame()\n",
    "hml_median_worker_per_job['mja8'] = power_per_job_8_worker.median()\n",
    "hml_median_worker_per_job['mja64'] = power_per_job_64_worker.median()\n",
    "hml_median_worker_per_job['mja512'] = power_per_job_512_worker.median()"
   ]
  },
  {
   "cell_type": "code",
   "execution_count": null,
   "metadata": {},
   "outputs": [],
   "source": [
    "# hml_median.plot(kind='bar', rot=90, figsize=figsize, title=\"Energieverbrauch nach Durchsatz im Median (Worker)\", ylabel=labels['power'], xlabel=labels['throughput'])\n",
    "hml_median_zeebe_activation.plot(kind='bar', rot=90, figsize=figsize, title=\"Jobaktivierungen nach Durchsatz im Median (Zeebe)\", ylabel=labels['power'], xlabel=labels['throughput'])"
   ]
  }
 ],
 "metadata": {
  "kernelspec": {
   "display_name": "base",
   "language": "python",
   "name": "python3"
  },
  "language_info": {
   "codemirror_mode": {
    "name": "ipython",
    "version": 3
   },
   "file_extension": ".py",
   "mimetype": "text/x-python",
   "name": "python",
   "nbconvert_exporter": "python",
   "pygments_lexer": "ipython3",
   "version": "3.11.5"
  }
 },
 "nbformat": 4,
 "nbformat_minor": 2
}
